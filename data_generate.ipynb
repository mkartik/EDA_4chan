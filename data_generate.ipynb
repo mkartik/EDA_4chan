{
 "cells": [
  {
   "cell_type": "code",
   "execution_count": 2,
   "metadata": {},
   "outputs": [],
   "source": [
    "import time\n",
    "import requests\n",
    "import json"
   ]
  },
  {
   "cell_type": "code",
   "execution_count": 3,
   "metadata": {},
   "outputs": [],
   "source": [
    "# Specify the desired 4chan channels\n",
    "channel_name_dict = {\n",
    "    'g':'technology',\n",
    "    'tv':'television',\n",
    "    'ck':'cooking',\n",
    "    'lit':'literature'\n",
    "}"
   ]
  },
  {
   "cell_type": "code",
   "execution_count": null,
   "metadata": {},
   "outputs": [],
   "source": [
    "for channel in channel_name_dict:\n",
    "    post_list = []\n",
    "    for i in range(1,7):\n",
    "        response = requests.get('https://a.4cdn.org/'+channel+'/'+str(i)+'.json')\n",
    "        time.sleep(2)\n",
    "        post_list.extend(response.json()['threads'])\n",
    "    filename = channel_name_dict[channel]+'.json'\n",
    "    dict_thread = {}\n",
    "    dict_thread['threads']=post_list\n",
    "    with open(filename, 'w', encoding='utf-8') as f:\n",
    "        json.dump(dict_thread, f)"
   ]
  }
 ],
 "metadata": {
  "kernelspec": {
   "display_name": "Python 3",
   "language": "python",
   "name": "python3"
  },
  "language_info": {
   "codemirror_mode": {
    "name": "ipython",
    "version": 3
   },
   "file_extension": ".py",
   "mimetype": "text/x-python",
   "name": "python",
   "nbconvert_exporter": "python",
   "pygments_lexer": "ipython3",
   "version": "3.7.6"
  }
 },
 "nbformat": 4,
 "nbformat_minor": 4
}
